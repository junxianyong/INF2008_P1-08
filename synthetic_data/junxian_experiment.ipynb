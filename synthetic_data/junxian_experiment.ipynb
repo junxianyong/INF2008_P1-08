{
 "cells": [
  {
   "cell_type": "code",
   "execution_count": 1,
   "metadata": {},
   "outputs": [],
   "source": [
    "import pandas as pd\n",
    "import re\n",
    "import nltk\n",
    "from nltk.corpus import stopwords\n",
    "from sklearn.model_selection import train_test_split\n",
    "from sklearn.feature_extraction.text import TfidfVectorizer\n",
    "from sklearn.linear_model import LogisticRegression\n",
    "from sklearn.metrics import accuracy_score, classification_report\n",
    "from sklearn.feature_extraction.text import CountVectorizer\n",
    "from sklearn.feature_extraction.text import TfidfVectorizer\n",
    "from gensim.models import Word2Vec\n",
    "import numpy as np\n",
    "from transformers import BertTokenizer, BertModel\n",
    "import torch\n"
   ]
  },
  {
   "cell_type": "code",
   "execution_count": 2,
   "metadata": {},
   "outputs": [],
   "source": [
    "# Load dataset\n",
    "df = pd.read_csv(\"cleaned_call_logs.csv\")"
   ]
  },
  {
   "cell_type": "code",
   "execution_count": 3,
   "metadata": {},
   "outputs": [],
   "source": [
    "# Preprocessing function\n",
    "def clean_text(text):\n",
    "    text = re.sub(r\"caller:|receiver:\", \"\", text, flags=re.IGNORECASE)  # Remove labels\n",
    "    text = text.lower()  # Convert to lowercase\n",
    "    text = re.sub(r\"\\d+\", \"\", text)  # Remove numbers\n",
    "    text = re.sub(r\"[^\\w\\s]\", \"\", text)  # Remove punctuation\n",
    "    stop_words = set(stopwords.words(\"english\"))\n",
    "    text = \" \".join([word for word in text.split() if word not in stop_words])  # Remove stopwords\n",
    "    return text\n",
    "\n",
    "df[\"cleaned_dialogue\"] = df[\"dialogue\"].apply(clean_text)"
   ]
  },
  {
   "cell_type": "code",
   "execution_count": 8,
   "metadata": {},
   "outputs": [],
   "source": [
    "# 1. CountVectorizer\n",
    "count_vectorizer = CountVectorizer(max_features=5000)\n",
    "X_count = count_vectorizer.fit_transform(df[\"cleaned_dialogue\"])\n",
    "\n",
    "# 2. TF-IDF (current approach)\n",
    "tfidf_vectorizer = TfidfVectorizer(max_features=5000)\n",
    "X_tfidf = tfidf_vectorizer.fit_transform(df[\"cleaned_dialogue\"])\n",
    "\n",
    "# 3. Word2Vec\n",
    "# Prepare sentences for Word2Vec\n",
    "sentences = [text.split() for text in df[\"cleaned_dialogue\"]]\n",
    "w2v_model = Word2Vec(sentences, vector_size=100, window=5, min_count=1)\n",
    "\n",
    "# Create document vectors by averaging word vectors\n",
    "X_w2v = np.zeros((len(sentences), 100))\n",
    "for idx, sentence in enumerate(sentences):\n",
    "    vectors = [w2v_model.wv[word] for word in sentence if word in w2v_model.wv]\n",
    "    if vectors:\n",
    "        X_w2v[idx] = np.mean(vectors, axis=0)"
   ]
  },
  {
   "cell_type": "code",
   "execution_count": 10,
   "metadata": {},
   "outputs": [],
   "source": [
    "# Split data for each feature extraction method\n",
    "X_train_count, X_test_count, y_train_count, y_test_count = train_test_split(X_count, df[\"labels\"], test_size=0.2, random_state=42)\n",
    "X_train_tfidf, X_test_tfidf, y_train_tfidf, y_test_tfidf = train_test_split(X_tfidf, df[\"labels\"], test_size=0.2, random_state=42)\n",
    "X_train_w2v, X_test_w2v, y_train_w2v, y_test_w2v = train_test_split(X_w2v, df[\"labels\"], test_size=0.2, random_state=42)"
   ]
  },
  {
   "cell_type": "code",
   "execution_count": 13,
   "metadata": {},
   "outputs": [
    {
     "name": "stdout",
     "output_type": "stream",
     "text": [
      "CountVectorizer:\n",
      "Accuracy: 1.0\n",
      "              precision    recall  f1-score   support\n",
      "\n",
      "           0       1.00      1.00      1.00        96\n",
      "           1       1.00      1.00      1.00       156\n",
      "\n",
      "    accuracy                           1.00       252\n",
      "   macro avg       1.00      1.00      1.00       252\n",
      "weighted avg       1.00      1.00      1.00       252\n",
      "\n",
      "TF-IDF:\n",
      "Accuracy: 0.9920634920634921\n",
      "              precision    recall  f1-score   support\n",
      "\n",
      "           0       1.00      0.98      0.99        96\n",
      "           1       0.99      1.00      0.99       156\n",
      "\n",
      "    accuracy                           0.99       252\n",
      "   macro avg       0.99      0.99      0.99       252\n",
      "weighted avg       0.99      0.99      0.99       252\n",
      "\n",
      "Word2Vec:\n",
      "Accuracy: 0.9722222222222222\n",
      "              precision    recall  f1-score   support\n",
      "\n",
      "           0       0.95      0.98      0.96        96\n",
      "           1       0.99      0.97      0.98       156\n",
      "\n",
      "    accuracy                           0.97       252\n",
      "   macro avg       0.97      0.97      0.97       252\n",
      "weighted avg       0.97      0.97      0.97       252\n",
      "\n"
     ]
    }
   ],
   "source": [
    "# Train Logistic Regression model\n",
    "model_count = LogisticRegression(max_iter=1000)\n",
    "model_count.fit(X_train_count, y_train_count)\n",
    "model_tfidf = LogisticRegression(max_iter=1000)\n",
    "model_tfidf.fit(X_train_tfidf, y_train_tfidf)\n",
    "model_w2v = LogisticRegression(max_iter=1000)\n",
    "model_w2v.fit(X_train_w2v, y_train_w2v)\n",
    "\n",
    "# Evaluate models\n",
    "y_pred_count = model_count.predict(X_test_count)\n",
    "y_pred_tfidf = model_tfidf.predict(X_test_tfidf)\n",
    "y_pred_w2v = model_w2v.predict(X_test_w2v)\n",
    "\n",
    "print(\"CountVectorizer:\")\n",
    "print(\"Accuracy:\", accuracy_score(y_test_count, y_pred_count))\n",
    "print(classification_report(y_test_count, y_pred_count))\n",
    "\n",
    "print(\"TF-IDF:\")\n",
    "print(\"Accuracy:\", accuracy_score(y_test_tfidf, y_pred_tfidf))\n",
    "print(classification_report(y_test_tfidf, y_pred_tfidf))\n",
    "\n",
    "print(\"Word2Vec:\")\n",
    "print(\"Accuracy:\", accuracy_score(y_test_w2v, y_pred_w2v))\n",
    "print(classification_report(y_test_w2v, y_pred_w2v))"
   ]
  },
  {
   "cell_type": "code",
   "execution_count": 48,
   "metadata": {},
   "outputs": [
    {
     "name": "stdout",
     "output_type": "stream",
     "text": [
      "Predicted label: Scam\n",
      "Predicted label probability: 0.9240601526777773\n"
     ]
    }
   ],
   "source": [
    "new_dialogue = \"\"\"\n",
    "caller: Hi, this is Sarah from XYZ Internet. How can I assist you today?  \n",
    "receiver: I’m having trouble with my Wi-Fi. It keeps disconnecting.  \n",
    "caller: I see. Let me run a diagnostic on your line. Can you confirm your account number?  \n",
    "receiver: Sure, it's 987654321.  \n",
    "caller: Thank you. I see some signal issues. I will reset your connection remotely.  \n",
    "receiver: Great, thanks!  \n",
    "caller: No problem! If the issue persists, feel free to call us back. Have a great day!  \n",
    "\"\"\"\n",
    "new_dialogue = clean_text(new_dialogue)  # Apply your text preprocessing\n",
    "\n",
    "# Convert text into a sparse matrix using CountVectorizer\n",
    "X_new = count_vectorizer.transform([new_dialogue])\n",
    "\n",
    "# Get the predicted label\n",
    "y_new = model_count.predict(X_new)\n",
    "\n",
    "# Get probability estimates\n",
    "prob_new = model_count.predict_proba(X_new)\n",
    "\n",
    "# Ensure correct interpretation of prediction\n",
    "label_index = np.argmax(prob_new)  # Find index of max probability\n",
    "label = \"Scam\" if label_index == 1 else \"Not Scam\"\n",
    "\n",
    "print(\"Predicted label:\", label)\n",
    "print(\"Predicted label probability:\", prob_new[0][label_index])"
   ]
  },
  {
   "cell_type": "code",
   "execution_count": 49,
   "metadata": {},
   "outputs": [
    {
     "name": "stdout",
     "output_type": "stream",
     "text": [
      "Predicted label: Not Scam\n",
      "Predicted label probability: 0.8790021644487198\n"
     ]
    }
   ],
   "source": [
    "# Use the Word2Vec Logistic Regression model to predict the label and the probability of the label for the following dialogue\n",
    "dialogue = \"\"\"\n",
    "caller: Hi, this is Sarah from XYZ Internet. How can I assist you today?  \n",
    "receiver: I’m having trouble with my Wi-Fi. It keeps disconnecting.  \n",
    "caller: I see. Let me run a diagnostic on your line. Can you confirm your account number?  \n",
    "receiver: Sure, it's 987654321.  \n",
    "caller: Thank you. I see some signal issues. I will reset your connection remotely.  \n",
    "receiver: Great, thanks!  \n",
    "caller: No problem! If the issue persists, feel free to call us back. Have a great day!  \n",
    "\"\"\"\n",
    "\n",
    "cleaned_dialogue = clean_text(dialogue)\n",
    "sentence = cleaned_dialogue.split()\n",
    "vectors = [w2v_model.wv[word] for word in sentence if word in w2v_model.wv]\n",
    "if vectors:\n",
    "    X = np.mean(vectors, axis=0)\n",
    "    X = X.reshape(1, -1)\n",
    "    y_pred = model_w2v.predict(X)\n",
    "    y_pred_proba = model_w2v.predict_proba(X)\n",
    "    label_index = np.argmax(y_pred_proba)  # Get index of highest probability\n",
    "    label = \"Scam\" if label_index == 1 else \"Not Scam\"\n",
    "    print(\"Predicted label:\", label)\n",
    "    print(\"Predicted label probability:\", y_pred_proba[0][label_index])\n",
    "else:\n",
    "    print(\"No word vectors found for the dialogue\")\n"
   ]
  },
  {
   "cell_type": "code",
   "execution_count": 52,
   "metadata": {},
   "outputs": [
    {
     "name": "stdout",
     "output_type": "stream",
     "text": [
      "Predicted label: Not Scam\n",
      "Predicted label probability: 0.6004718112848557\n"
     ]
    }
   ],
   "source": [
    "# Use the TFIDF Logistic Regression model to predict the label and the probability of the label for the following dialogue\n",
    "dialogue = \"\"\"\n",
    "caller: Hi, this is Sarah from XYZ Internet. How can I assist you today?  \n",
    "receiver: I’m having trouble with my Wi-Fi. It keeps disconnecting.  \n",
    "caller: I see. Let me run a diagnostic on your line. Can you confirm your account number?  \n",
    "receiver: Sure, it's 987654321.  \n",
    "caller: Thank you. I see some signal issues. I will reset your connection remotely.  \n",
    "receiver: Great, thanks!  \n",
    "caller: No problem! If the issue persists, feel free to call us back. Have a great day!\n",
    "\"\"\"\n",
    "cleaned_dialogue = clean_text(dialogue)\n",
    "X = tfidf_vectorizer.transform([cleaned_dialogue])\n",
    "y_pred = model_tfidf.predict(X)\n",
    "y_pred_proba = model_tfidf.predict_proba(X)\n",
    "label_index = np.argmax(y_pred_proba)  # Get index of highest probability\n",
    "label = \"Scam\" if label_index == 1 else \"Not Scam\"\n",
    "print(\"Predicted label:\", label)\n",
    "print(\"Predicted label probability:\", y_pred_proba[0][label_index])\n"
   ]
  }
 ],
 "metadata": {
  "kernelspec": {
   "display_name": "base",
   "language": "python",
   "name": "python3"
  },
  "language_info": {
   "codemirror_mode": {
    "name": "ipython",
    "version": 3
   },
   "file_extension": ".py",
   "mimetype": "text/x-python",
   "name": "python",
   "nbconvert_exporter": "python",
   "pygments_lexer": "ipython3",
   "version": "3.12.4"
  }
 },
 "nbformat": 4,
 "nbformat_minor": 2
}
