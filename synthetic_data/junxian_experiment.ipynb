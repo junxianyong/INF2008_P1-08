{
 "cells": [
  {
   "cell_type": "code",
   "execution_count": 2,
   "metadata": {},
   "outputs": [],
   "source": [
    "import pandas as pd\n",
    "import re\n",
    "import nltk\n",
    "from nltk.corpus import stopwords\n",
    "from sklearn.model_selection import train_test_split\n",
    "from sklearn.feature_extraction.text import TfidfVectorizer\n",
    "from sklearn.linear_model import LogisticRegression\n",
    "from sklearn.metrics import accuracy_score, classification_report"
   ]
  },
  {
   "cell_type": "code",
   "execution_count": 3,
   "metadata": {},
   "outputs": [],
   "source": [
    "# Load dataset\n",
    "df = pd.read_csv(\"cleaned_call_logs.csv\")"
   ]
  },
  {
   "cell_type": "code",
   "execution_count": 4,
   "metadata": {},
   "outputs": [],
   "source": [
    "# Preprocessing function\n",
    "def clean_text(text):\n",
    "    text = re.sub(r\"caller:|receiver:\", \"\", text, flags=re.IGNORECASE)  # Remove labels\n",
    "    text = text.lower()  # Convert to lowercase\n",
    "    text = re.sub(r\"\\d+\", \"\", text)  # Remove numbers\n",
    "    text = re.sub(r\"[^\\w\\s]\", \"\", text)  # Remove punctuation\n",
    "    stop_words = set(stopwords.words(\"english\"))\n",
    "    text = \" \".join([word for word in text.split() if word not in stop_words])  # Remove stopwords\n",
    "    return text\n",
    "\n",
    "df[\"cleaned_dialogue\"] = df[\"dialogue\"].apply(clean_text)"
   ]
  },
  {
   "cell_type": "code",
   "execution_count": 5,
   "metadata": {},
   "outputs": [
    {
     "name": "stdout",
     "output_type": "stream",
     "text": [
      "Accuracy: 0.9920634920634921\n",
      "Classification Report:\n",
      "               precision    recall  f1-score   support\n",
      "\n",
      "           0       1.00      0.98      0.99        96\n",
      "           1       0.99      1.00      0.99       156\n",
      "\n",
      "    accuracy                           0.99       252\n",
      "   macro avg       0.99      0.99      0.99       252\n",
      "weighted avg       0.99      0.99      0.99       252\n",
      "\n"
     ]
    }
   ],
   "source": [
    "# Convert text to numerical features using TF-IDF\n",
    "vectorizer = TfidfVectorizer(max_features=5000)\n",
    "X = vectorizer.fit_transform(df[\"cleaned_dialogue\"])\n",
    "y = df[\"labels\"]\n",
    "\n",
    "# Train-test split\n",
    "X_train, X_test, y_train, y_test = train_test_split(X, y, test_size=0.2, random_state=42)\n",
    "\n",
    "# Train model\n",
    "model = LogisticRegression()\n",
    "model.fit(X_train, y_train)\n",
    "\n",
    "# Predictions and probability\n",
    "y_pred = model.predict(X_test)\n",
    "y_prob = model.predict_proba(X_test)[:, 1]  # Probability of scam\n",
    "\n",
    "# Evaluation\n",
    "print(\"Accuracy:\", accuracy_score(y_test, y_pred))\n",
    "print(\"Classification Report:\\n\", classification_report(y_test, y_pred))"
   ]
  },
  {
   "cell_type": "code",
   "execution_count": 21,
   "metadata": {},
   "outputs": [
    {
     "name": "stdout",
     "output_type": "stream",
     "text": [
      "Scam Probability: 0.7392390533645842\n",
      "Scam Probability: 0.9447632534059093\n",
      "Scam Probability: 0.5111092006115073\n"
     ]
    }
   ],
   "source": [
    "# Example Prediction\n",
    "def predict_scam(dialogue):\n",
    "    cleaned = clean_text(dialogue)\n",
    "    vectorized = vectorizer.transform([cleaned])\n",
    "    prob = model.predict_proba(vectorized)[0, 1]  # Probability of being scam\n",
    "    return prob\n",
    "\n",
    "sample_text = \"\"\"I am selling some Taylor Swift tickets, are you interested?\n",
    "I can give you a discount. Please send me your credit card details.\n",
    "I will send you the tickets after payment, because I am a trusted seller.\n",
    "If you don't act now, you will miss this opportunity!\n",
    "\"\"\"\n",
    "print(\"Scam Probability:\", predict_scam(sample_text))\n",
    "\n",
    "sample_text = \"\"\"Hello, I am calling from the bank. We have detected some unusual activity on your account.\n",
    "Please provide your account number and PIN so that we can verify your identity.\n",
    "\"\"\"\n",
    "print(\"Scam Probability:\", predict_scam(sample_text))\n",
    "\n",
    "sample_text = \"\"\"Hi, I am calling from the local charity. We are raising funds for the homeless.\n",
    "Would you like to make a donation to support our cause?\n",
    "\"\"\"\n",
    "print(\"Scam Probability:\", predict_scam(sample_text))"
   ]
  }
 ],
 "metadata": {
  "kernelspec": {
   "display_name": "base",
   "language": "python",
   "name": "python3"
  },
  "language_info": {
   "codemirror_mode": {
    "name": "ipython",
    "version": 3
   },
   "file_extension": ".py",
   "mimetype": "text/x-python",
   "name": "python",
   "nbconvert_exporter": "python",
   "pygments_lexer": "ipython3",
   "version": "3.12.4"
  }
 },
 "nbformat": 4,
 "nbformat_minor": 2
}
