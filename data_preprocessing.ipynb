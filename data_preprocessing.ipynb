{
 "cells": [
  {
   "cell_type": "markdown",
   "metadata": {},
   "source": [
    "# Data Preprocessing\n",
    "\n",
    "This notebook contains the work done on the data preprocessing aspect of our Machine Learning Project. In this notebook, the data ingestion, cleaning, and processing is performed for further use in downstream tasks."
   ]
  },
  {
   "cell_type": "markdown",
   "metadata": {},
   "source": [
    "## 1. Data Loading"
   ]
  },
  {
   "cell_type": "markdown",
   "metadata": {},
   "source": [
    "### BothBosu 1"
   ]
  },
  {
   "cell_type": "code",
   "execution_count": 25,
   "metadata": {},
   "outputs": [
    {
     "data": {
      "text/html": [
       "<div>\n",
       "<style scoped>\n",
       "    .dataframe tbody tr th:only-of-type {\n",
       "        vertical-align: middle;\n",
       "    }\n",
       "\n",
       "    .dataframe tbody tr th {\n",
       "        vertical-align: top;\n",
       "    }\n",
       "\n",
       "    .dataframe thead th {\n",
       "        text-align: right;\n",
       "    }\n",
       "</style>\n",
       "<table border=\"1\" class=\"dataframe\">\n",
       "  <thead>\n",
       "    <tr style=\"text-align: right;\">\n",
       "      <th></th>\n",
       "      <th>dialogue</th>\n",
       "      <th>type</th>\n",
       "      <th>labels</th>\n",
       "    </tr>\n",
       "  </thead>\n",
       "  <tbody>\n",
       "    <tr>\n",
       "      <th>0</th>\n",
       "      <td>Suspect: Hi, this is Karen from Dr. Smith's of...</td>\n",
       "      <td>appointment</td>\n",
       "      <td>0</td>\n",
       "    </tr>\n",
       "    <tr>\n",
       "      <th>1</th>\n",
       "      <td>Suspect: Hi, is this John? Innocent: Yeah, tha...</td>\n",
       "      <td>appointment</td>\n",
       "      <td>0</td>\n",
       "    </tr>\n",
       "    <tr>\n",
       "      <th>2</th>\n",
       "      <td>Suspect: Hi, I'm calling from XYZ Medical Cent...</td>\n",
       "      <td>appointment</td>\n",
       "      <td>0</td>\n",
       "    </tr>\n",
       "    <tr>\n",
       "      <th>3</th>\n",
       "      <td>Suspect: Hi, I'm calling to confirm your appoi...</td>\n",
       "      <td>appointment</td>\n",
       "      <td>0</td>\n",
       "    </tr>\n",
       "    <tr>\n",
       "      <th>4</th>\n",
       "      <td>Suspect: Hi, I'm calling from Dr. Smith's offi...</td>\n",
       "      <td>appointment</td>\n",
       "      <td>0</td>\n",
       "    </tr>\n",
       "  </tbody>\n",
       "</table>\n",
       "</div>"
      ],
      "text/plain": [
       "                                            dialogue         type  labels\n",
       "0  Suspect: Hi, this is Karen from Dr. Smith's of...  appointment       0\n",
       "1  Suspect: Hi, is this John? Innocent: Yeah, tha...  appointment       0\n",
       "2  Suspect: Hi, I'm calling from XYZ Medical Cent...  appointment       0\n",
       "3  Suspect: Hi, I'm calling to confirm your appoi...  appointment       0\n",
       "4  Suspect: Hi, I'm calling from Dr. Smith's offi...  appointment       0"
      ]
     },
     "execution_count": 25,
     "metadata": {},
     "output_type": "execute_result"
    }
   ],
   "source": [
    "import pandas as pd\n",
    "\n",
    "single_agent_scam_dialogue_train_df = pd.read_csv(\"hf://datasets/BothBosu/single-agent-scam-conversations/single-agent-scam-dialogue_train.csv\")\n",
    "single_agent_scam_dialogue_test_df = pd.read_csv(\"hf://datasets/BothBosu/single-agent-scam-conversations/single-agent-scam-dialogue_test.csv\")\n",
    "\n",
    "single_agent_scam_dialogue = pd.concat([single_agent_scam_dialogue_train_df, single_agent_scam_dialogue_test_df])\n",
    "single_agent_scam_dialogue.head()"
   ]
  },
  {
   "cell_type": "code",
   "execution_count": 26,
   "metadata": {},
   "outputs": [
    {
     "name": "stdout",
     "output_type": "stream",
     "text": [
      "BothBosu 1 Dataset Count: 1600\n"
     ]
    }
   ],
   "source": [
    "print(f\"BothBosu 1 Dataset Count: {single_agent_scam_dialogue.shape[0]}\")"
   ]
  },
  {
   "cell_type": "markdown",
   "metadata": {},
   "source": [
    "### Youtube"
   ]
  },
  {
   "cell_type": "code",
   "execution_count": 73,
   "metadata": {},
   "outputs": [
    {
     "data": {
      "text/html": [
       "<div>\n",
       "<style scoped>\n",
       "    .dataframe tbody tr th:only-of-type {\n",
       "        vertical-align: middle;\n",
       "    }\n",
       "\n",
       "    .dataframe tbody tr th {\n",
       "        vertical-align: top;\n",
       "    }\n",
       "\n",
       "    .dataframe thead th {\n",
       "        text-align: right;\n",
       "    }\n",
       "</style>\n",
       "<table border=\"1\" class=\"dataframe\">\n",
       "  <thead>\n",
       "    <tr style=\"text-align: right;\">\n",
       "      <th></th>\n",
       "      <th>dialogue</th>\n",
       "      <th>type</th>\n",
       "      <th>call</th>\n",
       "      <th>link</th>\n",
       "      <th>channel</th>\n",
       "      <th>labels</th>\n",
       "    </tr>\n",
       "  </thead>\n",
       "  <tbody>\n",
       "    <tr>\n",
       "      <th>0</th>\n",
       "      <td>Innocent: Yes, hello.\\nSuspect: Yes ma'am, are...</td>\n",
       "      <td>support</td>\n",
       "      <td>outgoing</td>\n",
       "      <td>Scammer BEGS For His Deleted Files As I Drink ...</td>\n",
       "      <td>Scammer Payback</td>\n",
       "      <td>1</td>\n",
       "    </tr>\n",
       "    <tr>\n",
       "      <th>1</th>\n",
       "      <td>Suspect: Your Geek Squad subscription is upgra...</td>\n",
       "      <td>support</td>\n",
       "      <td>outgoing</td>\n",
       "      <td>Incompetent Scammer Sends Me $25,000 (youtube....</td>\n",
       "      <td>Rinoa Poison</td>\n",
       "      <td>1</td>\n",
       "    </tr>\n",
       "    <tr>\n",
       "      <th>2</th>\n",
       "      <td>Suspect: Cancellation department, how may I he...</td>\n",
       "      <td>support</td>\n",
       "      <td>outgoing</td>\n",
       "      <td>Scammer Gets Really Angry... Must See [scambai...</td>\n",
       "      <td>scambait tv</td>\n",
       "      <td>1</td>\n",
       "    </tr>\n",
       "    <tr>\n",
       "      <th>3</th>\n",
       "      <td>Suspect: Thank you for calling support. How ca...</td>\n",
       "      <td>support</td>\n",
       "      <td>outgoing</td>\n",
       "      <td>Tech Support Scammer vs Linux Mint (youtube.com)</td>\n",
       "      <td>Lewis's Tech</td>\n",
       "      <td>1</td>\n",
       "    </tr>\n",
       "    <tr>\n",
       "      <th>4</th>\n",
       "      <td>Suspect: Thank you for calling PayPal, how may...</td>\n",
       "      <td>refund</td>\n",
       "      <td>outgoing</td>\n",
       "      <td>Telling a Scammer I'm Keeping His $18,000 (you...</td>\n",
       "      <td>Rinoa Poison</td>\n",
       "      <td>1</td>\n",
       "    </tr>\n",
       "  </tbody>\n",
       "</table>\n",
       "</div>"
      ],
      "text/plain": [
       "                                            dialogue     type      call  \\\n",
       "0  Innocent: Yes, hello.\\nSuspect: Yes ma'am, are...  support  outgoing   \n",
       "1  Suspect: Your Geek Squad subscription is upgra...  support  outgoing   \n",
       "2  Suspect: Cancellation department, how may I he...  support  outgoing   \n",
       "3  Suspect: Thank you for calling support. How ca...  support  outgoing   \n",
       "4  Suspect: Thank you for calling PayPal, how may...   refund  outgoing   \n",
       "\n",
       "                                                link          channel  labels  \n",
       "0  Scammer BEGS For His Deleted Files As I Drink ...  Scammer Payback       1  \n",
       "1  Incompetent Scammer Sends Me $25,000 (youtube....     Rinoa Poison       1  \n",
       "2  Scammer Gets Really Angry... Must See [scambai...      scambait tv       1  \n",
       "3   Tech Support Scammer vs Linux Mint (youtube.com)     Lewis's Tech       1  \n",
       "4  Telling a Scammer I'm Keeping His $18,000 (you...     Rinoa Poison       1  "
      ]
     },
     "execution_count": 73,
     "metadata": {},
     "output_type": "execute_result"
    }
   ],
   "source": [
    "youtube_scam_conversations_df = pd.read_csv(\"hf://datasets/BothBosu/youtube-scam-conversations/youtube_scam_conversations.csv\")\n",
    "\n",
    "youtube_scam_conversations_df.head()"
   ]
  },
  {
   "cell_type": "code",
   "execution_count": 27,
   "metadata": {},
   "outputs": [
    {
     "name": "stdout",
     "output_type": "stream",
     "text": [
      "Youtube Dataset Count: 20\n"
     ]
    }
   ],
   "source": [
    "print(f\"Youtube Dataset Count: {youtube_scam_conversations_df.shape[0]}\")"
   ]
  },
  {
   "cell_type": "markdown",
   "metadata": {},
   "source": [
    "## BothBosu 2"
   ]
  },
  {
   "cell_type": "code",
   "execution_count": 28,
   "metadata": {},
   "outputs": [
    {
     "data": {
      "text/html": [
       "<div>\n",
       "<style scoped>\n",
       "    .dataframe tbody tr th:only-of-type {\n",
       "        vertical-align: middle;\n",
       "    }\n",
       "\n",
       "    .dataframe tbody tr th {\n",
       "        vertical-align: top;\n",
       "    }\n",
       "\n",
       "    .dataframe thead th {\n",
       "        text-align: right;\n",
       "    }\n",
       "</style>\n",
       "<table border=\"1\" class=\"dataframe\">\n",
       "  <thead>\n",
       "    <tr style=\"text-align: right;\">\n",
       "      <th></th>\n",
       "      <th>dialogue</th>\n",
       "      <th>type</th>\n",
       "      <th>labels</th>\n",
       "    </tr>\n",
       "  </thead>\n",
       "  <tbody>\n",
       "    <tr>\n",
       "      <th>0</th>\n",
       "      <td>caller: Hello, is this John? receiver: Yes, it...</td>\n",
       "      <td>ssn</td>\n",
       "      <td>1</td>\n",
       "    </tr>\n",
       "    <tr>\n",
       "      <th>1</th>\n",
       "      <td>caller: Hello, is this John? receiver: Yeah, t...</td>\n",
       "      <td>ssn</td>\n",
       "      <td>1</td>\n",
       "    </tr>\n",
       "    <tr>\n",
       "      <th>2</th>\n",
       "      <td>caller: Hello, is this Mr. Johnson? receiver: ...</td>\n",
       "      <td>ssn</td>\n",
       "      <td>1</td>\n",
       "    </tr>\n",
       "    <tr>\n",
       "      <th>3</th>\n",
       "      <td>caller: Hello, is this John? receiver: Yeah, t...</td>\n",
       "      <td>ssn</td>\n",
       "      <td>1</td>\n",
       "    </tr>\n",
       "    <tr>\n",
       "      <th>4</th>\n",
       "      <td>caller: Hello, this is Officer Johnson from th...</td>\n",
       "      <td>ssn</td>\n",
       "      <td>1</td>\n",
       "    </tr>\n",
       "  </tbody>\n",
       "</table>\n",
       "</div>"
      ],
      "text/plain": [
       "                                            dialogue type  labels\n",
       "0  caller: Hello, is this John? receiver: Yes, it...  ssn       1\n",
       "1  caller: Hello, is this John? receiver: Yeah, t...  ssn       1\n",
       "2  caller: Hello, is this Mr. Johnson? receiver: ...  ssn       1\n",
       "3  caller: Hello, is this John? receiver: Yeah, t...  ssn       1\n",
       "4  caller: Hello, this is Officer Johnson from th...  ssn       1"
      ]
     },
     "execution_count": 28,
     "metadata": {},
     "output_type": "execute_result"
    }
   ],
   "source": [
    "scam_dialogue_train_df = pd.read_csv(\"hf://datasets/BothBosu/scam-dialogue/scam-dialogue_train.csv\")\n",
    "scam_dialogue_test_df = pd.read_csv(\"hf://datasets/BothBosu/scam-dialogue/scam-dialogue_test.csv\")\n",
    "\n",
    "scam_dialogue = pd.concat([scam_dialogue_train_df, scam_dialogue_test_df])\n",
    "scam_dialogue.rename(columns={\"label\": \"labels\"}, inplace=True)\n",
    "scam_dialogue.head()"
   ]
  },
  {
   "cell_type": "code",
   "execution_count": 38,
   "metadata": {},
   "outputs": [
    {
     "data": {
      "text/plain": [
       "\"caller: Hello, is this Mrs. Johnson?  receiver: Yes, it is. Who's calling?  caller: My name is David from Customer Rewards Center. How are you today?  receiver: I'm doing well, thanks. What can I do for you?  caller: Congratulations, Mrs. Johnson! You've been selected to receive a $1,000 gift card as part of our customer appreciation program.  receiver: That sounds amazing! How did I get selected?  caller: We randomly select customers from our database, and your name was chosen. All you need to do is pay a small processing fee of $20 to receive your gift card.  receiver: That's so exciting! Can you tell me more about the database you used? Was it from a specific store or website I visited?  caller: Uh, no, ma'am. It was just a general database. Don't worry about that. Would you like to proceed with the payment?  receiver: Okay, but how do I know this is legit? Can you provide me with a website or phone number to verify this offer?  caller: I understand your concern, ma'am. Unfortunately, we're a new company, and our website is still under construction. But trust me, this is a legitimate offer. Many people have already received their gift cards.  receiver: That's strange. Can you give me the names of some of those people so I can contact them and ask about their experience?  caller: I'm not authorized to disclose that information, ma'am. But I assure you, this is a real deal. Are you ready to proceed with the payment?\""
      ]
     },
     "execution_count": 38,
     "metadata": {},
     "output_type": "execute_result"
    }
   ],
   "source": [
    "scam_dialogue['dialogue'].iloc[555]"
   ]
  },
  {
   "cell_type": "code",
   "execution_count": 29,
   "metadata": {},
   "outputs": [
    {
     "name": "stdout",
     "output_type": "stream",
     "text": [
      "BothBosu 2 Dataset Count: 1600\n"
     ]
    }
   ],
   "source": [
    "print(f\"BothBosu 2 Dataset Count: {scam_dialogue.shape[0]}\")"
   ]
  },
  {
   "cell_type": "markdown",
   "metadata": {},
   "source": [
    "### BothBosu 3"
   ]
  },
  {
   "cell_type": "code",
   "execution_count": 30,
   "metadata": {},
   "outputs": [
    {
     "data": {
      "text/html": [
       "<div>\n",
       "<style scoped>\n",
       "    .dataframe tbody tr th:only-of-type {\n",
       "        vertical-align: middle;\n",
       "    }\n",
       "\n",
       "    .dataframe tbody tr th {\n",
       "        vertical-align: top;\n",
       "    }\n",
       "\n",
       "    .dataframe thead th {\n",
       "        text-align: right;\n",
       "    }\n",
       "</style>\n",
       "<table border=\"1\" class=\"dataframe\">\n",
       "  <thead>\n",
       "    <tr style=\"text-align: right;\">\n",
       "      <th></th>\n",
       "      <th>dialogue</th>\n",
       "      <th>personality</th>\n",
       "      <th>type</th>\n",
       "      <th>labels</th>\n",
       "    </tr>\n",
       "  </thead>\n",
       "  <tbody>\n",
       "    <tr>\n",
       "      <th>0</th>\n",
       "      <td>Innocent: Hello.  Suspect: Hi, this is Karen f...</td>\n",
       "      <td>aggressive</td>\n",
       "      <td>appointment</td>\n",
       "      <td>0</td>\n",
       "    </tr>\n",
       "    <tr>\n",
       "      <th>1</th>\n",
       "      <td>Innocent: Hello.  Suspect: Hi, this is Karen f...</td>\n",
       "      <td>aggressive</td>\n",
       "      <td>appointment</td>\n",
       "      <td>0</td>\n",
       "    </tr>\n",
       "    <tr>\n",
       "      <th>2</th>\n",
       "      <td>Innocent: Hello.  Suspect: Hi, this is Karen f...</td>\n",
       "      <td>aggressive</td>\n",
       "      <td>appointment</td>\n",
       "      <td>0</td>\n",
       "    </tr>\n",
       "    <tr>\n",
       "      <th>3</th>\n",
       "      <td>Innocent: Hello.  Suspect: Hi, this is Rachel ...</td>\n",
       "      <td>aggressive</td>\n",
       "      <td>appointment</td>\n",
       "      <td>0</td>\n",
       "    </tr>\n",
       "    <tr>\n",
       "      <th>4</th>\n",
       "      <td>Innocent: Hello.  Suspect: Hi, this is Karen f...</td>\n",
       "      <td>aggressive</td>\n",
       "      <td>appointment</td>\n",
       "      <td>0</td>\n",
       "    </tr>\n",
       "  </tbody>\n",
       "</table>\n",
       "</div>"
      ],
      "text/plain": [
       "                                            dialogue personality         type  \\\n",
       "0  Innocent: Hello.  Suspect: Hi, this is Karen f...  aggressive  appointment   \n",
       "1  Innocent: Hello.  Suspect: Hi, this is Karen f...  aggressive  appointment   \n",
       "2  Innocent: Hello.  Suspect: Hi, this is Karen f...  aggressive  appointment   \n",
       "3  Innocent: Hello.  Suspect: Hi, this is Rachel ...  aggressive  appointment   \n",
       "4  Innocent: Hello.  Suspect: Hi, this is Karen f...  aggressive  appointment   \n",
       "\n",
       "   labels  \n",
       "0       0  \n",
       "1       0  \n",
       "2       0  \n",
       "3       0  \n",
       "4       0  "
      ]
     },
     "execution_count": 30,
     "metadata": {},
     "output_type": "execute_result"
    }
   ],
   "source": [
    "agent_conversation_train_df = pd.read_csv(\"hf://datasets/BothBosu/multi-agent-scam-conversation/agent_conversation_train.csv\")\n",
    "agent_conversation_test_df = pd.read_csv(\"hf://datasets/BothBosu/multi-agent-scam-conversation/agent_conversation_test.csv\")\n",
    "\n",
    "agent_conversation = pd.concat([agent_conversation_train_df, agent_conversation_test_df])\n",
    "agent_conversation.head()"
   ]
  },
  {
   "cell_type": "code",
   "execution_count": 31,
   "metadata": {},
   "outputs": [
    {
     "name": "stdout",
     "output_type": "stream",
     "text": [
      "BothBosu 3 Dataset Count: 1600\n"
     ]
    }
   ],
   "source": [
    "print(f\"BothBosu 3 Dataset Count: {agent_conversation.shape[0]}\")"
   ]
  },
  {
   "cell_type": "markdown",
   "metadata": {},
   "source": [
    "### BothBosu 4"
   ]
  },
  {
   "cell_type": "code",
   "execution_count": 76,
   "metadata": {},
   "outputs": [
    {
     "data": {
      "text/html": [
       "<div>\n",
       "<style scoped>\n",
       "    .dataframe tbody tr th:only-of-type {\n",
       "        vertical-align: middle;\n",
       "    }\n",
       "\n",
       "    .dataframe tbody tr th {\n",
       "        vertical-align: top;\n",
       "    }\n",
       "\n",
       "    .dataframe thead th {\n",
       "        text-align: right;\n",
       "    }\n",
       "</style>\n",
       "<table border=\"1\" class=\"dataframe\">\n",
       "  <thead>\n",
       "    <tr style=\"text-align: right;\">\n",
       "      <th></th>\n",
       "      <th>dialogue</th>\n",
       "      <th>labels</th>\n",
       "    </tr>\n",
       "  </thead>\n",
       "  <tbody>\n",
       "    <tr>\n",
       "      <th>0</th>\n",
       "      <td>Person A: Hello, I'm calling from the bank and...</td>\n",
       "      <td>1</td>\n",
       "    </tr>\n",
       "    <tr>\n",
       "      <th>1</th>\n",
       "      <td>Person A: Hi, how was your weekend? Person B: ...</td>\n",
       "      <td>0</td>\n",
       "    </tr>\n",
       "    <tr>\n",
       "      <th>2</th>\n",
       "      <td>Person A: Hello, this is Sarah from the credit...</td>\n",
       "      <td>1</td>\n",
       "    </tr>\n",
       "    <tr>\n",
       "      <th>3</th>\n",
       "      <td>Person A: Hey, how's your week going so far? P...</td>\n",
       "      <td>0</td>\n",
       "    </tr>\n",
       "    <tr>\n",
       "      <th>4</th>\n",
       "      <td>Person A: Good day, I'm calling from a lottery...</td>\n",
       "      <td>1</td>\n",
       "    </tr>\n",
       "  </tbody>\n",
       "</table>\n",
       "</div>"
      ],
      "text/plain": [
       "                                            dialogue  labels\n",
       "0  Person A: Hello, I'm calling from the bank and...       1\n",
       "1  Person A: Hi, how was your weekend? Person B: ...       0\n",
       "2  Person A: Hello, this is Sarah from the credit...       1\n",
       "3  Person A: Hey, how's your week going so far? P...       0\n",
       "4  Person A: Good day, I'm calling from a lottery...       1"
      ]
     },
     "execution_count": 76,
     "metadata": {},
     "output_type": "execute_result"
    }
   ],
   "source": [
    "gen_conver_noIdentifier_1000_df = pd.read_csv(\"hf://datasets/BothBosu/Scammer-Conversation/gen_conver_noIdentifier_1000.csv\")\n",
    "\n",
    "gen_conver_noIdentifier_1000_df.rename(columns={\"conversation\": \"dialogue\", \"label\": \"labels\"}, inplace=True)\n",
    "gen_conver_noIdentifier_1000_df.head()"
   ]
  },
  {
   "cell_type": "code",
   "execution_count": 32,
   "metadata": {},
   "outputs": [
    {
     "name": "stdout",
     "output_type": "stream",
     "text": [
      "BothBosu 4 Dataset Count: 1000\n"
     ]
    }
   ],
   "source": [
    "print(f\"BothBosu 4 Dataset Count: {gen_conver_noIdentifier_1000_df.shape[0]}\")"
   ]
  },
  {
   "cell_type": "markdown",
   "metadata": {},
   "source": [
    "## 2. Data Preprocessing"
   ]
  },
  {
   "cell_type": "markdown",
   "metadata": {},
   "source": [
    "### Adding 'Type' column in the dataset\n",
    "\n",
    "Why is the 'type' column so crucial? Well, as one of the targets to predict is the type of scam (e.g., Delivery Scam, Bank Scam, etc.) when a call conversation is flagged as a potential scam call, this column needs to be filled."
   ]
  },
  {
   "cell_type": "code",
   "execution_count": 33,
   "metadata": {},
   "outputs": [],
   "source": [
    "# adding 'type' column to the last dataset\n",
    "\n",
    "scam_only_df = gen_conver_noIdentifier_1000_df[gen_conver_noIdentifier_1000_df['labels'] == 1].copy()\n",
    "non_scam_df = gen_conver_noIdentifier_1000_df[gen_conver_noIdentifier_1000_df['labels'] == 0].copy()\n",
    "\n",
    "# Define keywords for each type\n",
    "type_keywords = {\n",
    "    \"appointment\": [\"appointment\", \"schedule\", \"meeting\", \"consultation\"],\n",
    "    \"delivery\": [\"delivery\", \"package\", \"courier\", \"ship\"],\n",
    "    \"insurance\": [\"insurance\", \"policy\", \"claim\", \"premium\"],\n",
    "    \"refund\": [\"refund\", \"money back\", \"return\"],\n",
    "    \"reward\": [\"reward\", \"prize\", \"win\", \"lottery\"],\n",
    "    \"ssn\": [\"ssn\", \"social security\", \"identity\"],\n",
    "    \"support\": [\"support\", \"help desk\", \"customer service\"],\n",
    "    \"telemarketing\": [\"offer\", \"promo\", \"discount\", \"telemarketing\"],\n",
    "    \"wrong\": [\"wrong number\", \"misdialed\"],\n",
    "    \"bank\": [\"bank\", \"account\", \"loan\", \"credit\", \"card\", \"transaction\"] # new type\n",
    "}\n",
    "\n",
    "def classify_dialogue(dialogue):\n",
    "    for type_, keywords in type_keywords.items():\n",
    "        if any(keyword.lower() in dialogue.lower() for keyword in keywords):\n",
    "            return type_\n",
    "    return \"others\"  # For dialogues that don't match any type\n",
    "\n",
    "scam_only_df['type'] = scam_only_df['dialogue'].apply(classify_dialogue)\n",
    "\n",
    "# For non-scam rows, assign \"NIL\" as type\n",
    "non_scam_df['type'] = \"NIL\"\n",
    "\n",
    "# Combine classified scam rows and non-scam rows\n",
    "final_df = pd.concat([scam_only_df, non_scam_df], ignore_index=True)"
   ]
  },
  {
   "cell_type": "code",
   "execution_count": 34,
   "metadata": {},
   "outputs": [
    {
     "data": {
      "text/html": [
       "<div>\n",
       "<style scoped>\n",
       "    .dataframe tbody tr th:only-of-type {\n",
       "        vertical-align: middle;\n",
       "    }\n",
       "\n",
       "    .dataframe tbody tr th {\n",
       "        vertical-align: top;\n",
       "    }\n",
       "\n",
       "    .dataframe thead th {\n",
       "        text-align: right;\n",
       "    }\n",
       "</style>\n",
       "<table border=\"1\" class=\"dataframe\">\n",
       "  <thead>\n",
       "    <tr style=\"text-align: right;\">\n",
       "      <th></th>\n",
       "      <th>dialogue</th>\n",
       "      <th>labels</th>\n",
       "      <th>type</th>\n",
       "    </tr>\n",
       "  </thead>\n",
       "  <tbody>\n",
       "    <tr>\n",
       "      <th>0</th>\n",
       "      <td>Suspect: Hi, this is Karen from Dr. Smith's of...</td>\n",
       "      <td>0</td>\n",
       "      <td>appointment</td>\n",
       "    </tr>\n",
       "    <tr>\n",
       "      <th>1</th>\n",
       "      <td>Suspect: Hi, is this John? Innocent: Yeah, tha...</td>\n",
       "      <td>0</td>\n",
       "      <td>appointment</td>\n",
       "    </tr>\n",
       "    <tr>\n",
       "      <th>2</th>\n",
       "      <td>Suspect: Hi, I'm calling from XYZ Medical Cent...</td>\n",
       "      <td>0</td>\n",
       "      <td>appointment</td>\n",
       "    </tr>\n",
       "    <tr>\n",
       "      <th>3</th>\n",
       "      <td>Suspect: Hi, I'm calling to confirm your appoi...</td>\n",
       "      <td>0</td>\n",
       "      <td>appointment</td>\n",
       "    </tr>\n",
       "    <tr>\n",
       "      <th>4</th>\n",
       "      <td>Suspect: Hi, I'm calling from Dr. Smith's offi...</td>\n",
       "      <td>0</td>\n",
       "      <td>appointment</td>\n",
       "    </tr>\n",
       "  </tbody>\n",
       "</table>\n",
       "</div>"
      ],
      "text/plain": [
       "                                            dialogue  labels         type\n",
       "0  Suspect: Hi, this is Karen from Dr. Smith's of...       0  appointment\n",
       "1  Suspect: Hi, is this John? Innocent: Yeah, tha...       0  appointment\n",
       "2  Suspect: Hi, I'm calling from XYZ Medical Cent...       0  appointment\n",
       "3  Suspect: Hi, I'm calling to confirm your appoi...       0  appointment\n",
       "4  Suspect: Hi, I'm calling from Dr. Smith's offi...       0  appointment"
      ]
     },
     "execution_count": 34,
     "metadata": {},
     "output_type": "execute_result"
    }
   ],
   "source": [
    "# Combine all the datasets with only same columns\n",
    "dfs = [single_agent_scam_dialogue, youtube_scam_conversations_df, scam_dialogue, agent_conversation, final_df]\n",
    "combined_df = pd.concat([df for df in dfs], ignore_index=True)\n",
    "combined_df = combined_df[[\"dialogue\", \"labels\", \"type\"]]\n",
    "combined_df.head()"
   ]
  },
  {
   "cell_type": "code",
   "execution_count": 35,
   "metadata": {},
   "outputs": [
    {
     "name": "stdout",
     "output_type": "stream",
     "text": [
      "Combined dataset shape:  (5820, 3)\n",
      "Unique types:  ['appointment' 'delivery' 'insurance' 'wrong' 'refund' 'reward' 'ssn'\n",
      " 'support' 'telemarketing' 'bank' 'others' 'NIL']\n"
     ]
    }
   ],
   "source": [
    "print(\"Combined dataset shape: \", combined_df.shape)\n",
    "print(\"Unique types: \", combined_df.type.unique()) # \"wrong\" type means wrong number scam"
   ]
  },
  {
   "cell_type": "markdown",
   "metadata": {},
   "source": [
    "### Remove caller's identity\n",
    "\n",
    "As we are focusing on certain keywords and phrases (telltale signs) and compromised PII within the conversation, we opt to remove speaker identies from the conversation."
   ]
  },
  {
   "cell_type": "code",
   "execution_count": 39,
   "metadata": {},
   "outputs": [
    {
     "name": "stdout",
     "output_type": "stream",
     "text": [
      "Innocent: 21501\n",
      "Suspect: 21304\n",
      "caller: 11285\n",
      "receiver: 10605\n",
      "A: 5424\n",
      "B: 4950\n",
      "number: 30\n",
      ": 14\n",
      "question: 14\n",
      "this: 14\n",
      "address: 14\n",
      "thing: 13\n",
      "ask: 13\n",
      "clear: 12\n",
      "you: 10\n",
      "code: 9\n",
      "information: 6\n",
      "is: 5\n",
      "simple: 5\n",
      "confirm: 5\n",
      "compromise: 4\n",
      "alternative: 4\n",
      "extension: 4\n",
      "supervisor: 3\n",
      "correct: 3\n",
      "refund: 3\n",
      "follows: 3\n",
      "solution: 3\n",
      "way: 3\n",
      "codes: 2\n",
      "one: 2\n",
      "42: 2\n",
      "reads: 2\n",
      "insurance: 2\n",
      "go: 2\n",
      "policy: 2\n",
      "account: 2\n",
      "it: 2\n",
      "courtesy: 2\n",
      "deal: 2\n",
      "again: 2\n",
      "hint: 2\n",
      "details: 2\n",
      "Alex: 2\n",
      "benefits: 2\n",
      "Error: 1\n",
      "\"TeamViewer: 1\n",
      "Rachel: 1\n",
      "no: 1\n",
      "things: 1\n",
      "down: 1\n",
      "moment.Rachel: 1\n",
      "quote: 1\n",
      "far: 1\n",
      "though: 1\n",
      "offer: 1\n",
      "Discounts: 1\n",
      "fee: 1\n",
      "numbers: 1\n",
      "premium: 1\n",
      "Deductible: 1\n",
      "Johnson: 1\n",
      "info: 1\n",
      "are: 1\n",
      "location: 1\n",
      "something: 1\n",
      "confirmed: 1\n",
      "Name: 1\n",
      "ThompsonAddress: 1\n",
      "processor: 1\n",
      "at: 1\n",
      "now: 1\n",
      "system: 1\n",
      "bonus: 1\n",
      "chance: 1\n",
      "important: 1\n",
      "time: 1\n",
      "David: 1\n",
      "do: 1\n",
      "assurance: 1\n",
      "guarantee: 1\n",
      "software: 1\n",
      "issue.John: 1\n",
      "website: 1\n",
      "435: 1\n",
      "ID: 1\n",
      "get: 1\n",
      "directly: 1\n",
      "summarize: 1\n",
      "works: 1\n",
      "Insurance: 1\n",
      "Program: 1\n",
      "Services: 1\n",
      "discount: 1\n",
      "features: 1\n",
      "case: 1\n",
      "choice: 1\n",
      "includes: 1\n",
      "simply: 1\n",
      "well: 1\n",
      "secret: 1\n",
      "me: 1\n"
     ]
    }
   ],
   "source": [
    "# From the dialogue, retrieve a list of words that end with a colon (:)\n",
    "def get_colon_words_with_counts(dialogue):\n",
    "    words = []\n",
    "    for word in dialogue.split():\n",
    "        if word.endswith(\":\"):\n",
    "            words.append(word.rstrip(\":\"))\n",
    "    return words\n",
    "\n",
    "# Initialize a dictionary to store word counts\n",
    "colon_word_counts = {}\n",
    "\n",
    "# Iterate over the column to gather all words and their counts\n",
    "for dialogue in combined_df[\"dialogue\"]:\n",
    "    words = get_colon_words_with_counts(dialogue)\n",
    "    for word in words:\n",
    "        if word in colon_word_counts:\n",
    "            colon_word_counts[word] += 1\n",
    "        else:\n",
    "            colon_word_counts[word] = 1\n",
    "\n",
    "# Convert the dictionary to a list of tuples and sort by count (descending order)\n",
    "sorted_colon_word_counts = sorted(colon_word_counts.items(), key=lambda x: x[1], reverse=True)\n",
    "\n",
    "# Display the result\n",
    "for word, count in sorted_colon_word_counts:\n",
    "    print(f\"{word}: {count}\")"
   ]
  },
  {
   "cell_type": "code",
   "execution_count": 40,
   "metadata": {},
   "outputs": [],
   "source": [
    "# Remove the words from the dialogue\n",
    "combined_df[\"dialogue\"] = combined_df[\"dialogue\"].str.replace(\"Person A: \", \"\")\n",
    "combined_df[\"dialogue\"] = combined_df[\"dialogue\"].str.replace(\"Person B: \", \"\")\n",
    "combined_df[\"dialogue\"] = combined_df[\"dialogue\"].str.replace(\"Innocent: \", \"\")\n",
    "combined_df[\"dialogue\"] = combined_df[\"dialogue\"].str.replace(\"Suspect: \", \"\")\n",
    "combined_df[\"dialogue\"] = combined_df[\"dialogue\"].str.replace(\"receiver: \", \"\")\n",
    "combined_df[\"dialogue\"] = combined_df[\"dialogue\"].str.replace(\"caller: \", \"\")"
   ]
  },
  {
   "cell_type": "markdown",
   "metadata": {},
   "source": [
    "## 3. Type of Scams\n",
    "\n",
    "Shown in the cells below are the type of scams available in our dataset."
   ]
  },
  {
   "cell_type": "code",
   "execution_count": 41,
   "metadata": {},
   "outputs": [
    {
     "name": "stdout",
     "output_type": "stream",
     "text": [
      "type\n",
      "insurance        644\n",
      "support          638\n",
      "reward           614\n",
      "refund           613\n",
      "delivery         609\n",
      "ssn              606\n",
      "wrong            600\n",
      "NIL              476\n",
      "appointment      400\n",
      "bank             384\n",
      "telemarketing    209\n",
      "others            27\n",
      "Name: count, dtype: int64\n"
     ]
    }
   ],
   "source": [
    "combined_df.to_csv(\"combined_scam_dataset.csv\", index=False)\n",
    "\n",
    "# Print the count of each type\n",
    "type_counts = combined_df['type'].value_counts()\n",
    "print(type_counts)"
   ]
  }
 ],
 "metadata": {
  "kernelspec": {
   "display_name": "base",
   "language": "python",
   "name": "python3"
  },
  "language_info": {
   "codemirror_mode": {
    "name": "ipython",
    "version": 3
   },
   "file_extension": ".py",
   "mimetype": "text/x-python",
   "name": "python",
   "nbconvert_exporter": "python",
   "pygments_lexer": "ipython3",
   "version": "3.12.4"
  }
 },
 "nbformat": 4,
 "nbformat_minor": 2
}
